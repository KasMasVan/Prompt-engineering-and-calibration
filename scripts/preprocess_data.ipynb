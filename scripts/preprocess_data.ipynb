{
 "cells": [
  {
   "cell_type": "code",
   "execution_count": 8,
   "id": "d677c390-1ea1-4923-9572-fa2e84348d1e",
   "metadata": {},
   "outputs": [],
   "source": [
    "# PIQA\n",
    "\n",
    "import json\n",
    "\n",
    "cond_mcp, uncond_mcp, domain_cond = None, None, \" The answer is: \"\n",
    "\n",
    "examples = []\n",
    "with open(\"../data/siqa/dev.jsonl\") as lines, open(\"../data/siqa/dev-labels.lst\") as labels:\n",
    "    for line, label in zip(lines, labels):\n",
    "        example = {}\n",
    "        example['label'] = int(label[0])\n",
    "        \n",
    "        line = json.loads(line)\n",
    "        options = []\n",
    "        for key in ['answerA', 'answerB', 'answerC']:\n",
    "            option = {}\n",
    "            option['hypothesis'] = line[key]\n",
    "            option['premise'] = line['context'] + ' ' + line['question'] + domain_cond\n",
    "            option['uncond_hypothesis'] = line[key]\n",
    "            option['uncond_premise'] = domain_cond\n",
    "            options.append(option)\n",
    "        example['options'] = options\n",
    "        examples.append(example)\n",
    "        "
   ]
  },
  {
   "cell_type": "code",
   "execution_count": 9,
   "id": "f8f550b5-72ab-407f-bbd0-8184b7cfa341",
   "metadata": {},
   "outputs": [
    {
     "name": "stdout",
     "output_type": "stream",
     "text": [
      "{'label': 3, 'options': [{'hypothesis': 'make a new plan', 'premise': \"Tracy didn't go home that evening and resisted Riley's attacks. What does Tracy need to do before this? The answer is: \", 'uncond_hypothesis': 'make a new plan', 'uncond_premise': ' The answer is: '}, {'hypothesis': 'Go home and see Riley', 'premise': \"Tracy didn't go home that evening and resisted Riley's attacks. What does Tracy need to do before this? The answer is: \", 'uncond_hypothesis': 'Go home and see Riley', 'uncond_premise': ' The answer is: '}, {'hypothesis': 'Find somewhere to go', 'premise': \"Tracy didn't go home that evening and resisted Riley's attacks. What does Tracy need to do before this? The answer is: \", 'uncond_hypothesis': 'Find somewhere to go', 'uncond_premise': ' The answer is: '}]}\n"
     ]
    }
   ],
   "source": [
    "print(examples[0])"
   ]
  },
  {
   "cell_type": "code",
   "execution_count": null,
   "id": "1b6bf0bc-5a90-4522-828d-4f1e18724529",
   "metadata": {},
   "outputs": [],
   "source": []
  }
 ],
 "metadata": {
  "kernelspec": {
   "display_name": "Python 3 (ipykernel)",
   "language": "python",
   "name": "python3"
  },
  "language_info": {
   "codemirror_mode": {
    "name": "ipython",
    "version": 3
   },
   "file_extension": ".py",
   "mimetype": "text/x-python",
   "name": "python",
   "nbconvert_exporter": "python",
   "pygments_lexer": "ipython3",
   "version": "3.8.10"
  }
 },
 "nbformat": 4,
 "nbformat_minor": 5
}
