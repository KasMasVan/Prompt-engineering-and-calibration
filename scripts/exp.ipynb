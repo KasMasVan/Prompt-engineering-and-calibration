{
 "cells": [
  {
   "cell_type": "code",
   "execution_count": 1,
   "id": "9f73b467-22c7-4dbd-b409-a6f3d21c7c11",
   "metadata": {
    "collapsed": true,
    "jupyter": {
     "outputs_hidden": true
    },
    "tags": []
   },
   "outputs": [
    {
     "name": "stderr",
     "output_type": "stream",
     "text": [
      "/usr/local/lib/python3.8/dist-packages/tqdm/auto.py:22: TqdmWarning: IProgress not found. Please update jupyter and ipywidgets. See https://ipywidgets.readthedocs.io/en/stable/user_install.html\n",
      "  from .autonotebook import tqdm as notebook_tqdm\n",
      "Downloading builder script: 100%|██████████| 3.64k/3.64k [00:00<00:00, 2.09MB/s]\n",
      "Downloading metadata: 100%|██████████| 3.04k/3.04k [00:00<00:00, 1.33MB/s]\n",
      "Downloading readme: 100%|██████████| 7.22k/7.22k [00:00<00:00, 2.78MB/s]\n"
     ]
    },
    {
     "name": "stdout",
     "output_type": "stream",
     "text": [
      "Downloading and preparing dataset commonsense_qa/default to /root/.cache/huggingface/datasets/commonsense_qa/default/1.0.0/28d68f56649a7f0c23bc68eae850af914aa03f95f810011ae8cf58cc5ff5051b...\n"
     ]
    },
    {
     "name": "stderr",
     "output_type": "stream",
     "text": [
      "Downloading data files:   0%|          | 0/3 [00:00<?, ?it/s]\n",
      "Downloading data:   0%|          | 0.00/3.79M [00:00<?, ?B/s]\u001b[A\n",
      "Downloading data:   0%|          | 1.02k/3.79M [00:00<14:21, 4.39kB/s]\u001b[A\n",
      "Downloading data:   1%|          | 34.8k/3.79M [00:00<00:43, 86.0kB/s]\u001b[A\n",
      "Downloading data:   3%|▎         | 104k/3.79M [00:00<00:20, 178kB/s]  \u001b[A\n",
      "Downloading data:   6%|▌         | 209k/3.79M [00:00<00:12, 283kB/s]\u001b[A\n",
      "Downloading data:  12%|█▏        | 453k/3.79M [00:01<00:06, 551kB/s]\u001b[A\n",
      "Downloading data:  15%|█▍        | 557k/3.79M [00:01<00:06, 506kB/s]\u001b[A\n",
      "Downloading data:  36%|███▋      | 1.38M/3.79M [00:01<00:01, 1.47MB/s]\u001b[A\n",
      "Downloading data:  40%|████      | 1.53M/3.79M [00:01<00:01, 1.19MB/s]\u001b[A\n",
      "Downloading data:  48%|████▊     | 1.83M/3.79M [00:02<00:01, 1.22MB/s]\u001b[A\n",
      "Downloading data:  57%|█████▋    | 2.14M/3.79M [00:02<00:01, 1.24MB/s]\u001b[A\n",
      "Downloading data:  63%|██████▎   | 2.38M/3.79M [00:02<00:01, 1.17MB/s]\u001b[A\n",
      "Downloading data:  68%|██████▊   | 2.56M/3.79M [00:02<00:01, 1.04MB/s]\u001b[A\n",
      "Downloading data:  74%|███████▎  | 2.79M/3.79M [00:03<00:00, 1.02MB/s]\u001b[A\n",
      "Downloading data:  76%|███████▋  | 2.89M/3.79M [00:03<00:01, 844kB/s] \u001b[A\n",
      "Downloading data:  79%|███████▊  | 2.97M/3.79M [00:03<00:01, 640kB/s]\u001b[A\n",
      "Downloading data:  80%|████████  | 3.04M/3.79M [00:03<00:01, 585kB/s]\u001b[A\n",
      "Downloading data:  83%|████████▎ | 3.13M/3.79M [00:04<00:01, 524kB/s]\u001b[A\n",
      "Downloading data:  85%|████████▍ | 3.20M/3.79M [00:04<00:01, 453kB/s]\u001b[A\n",
      "Downloading data:  86%|████████▋ | 3.27M/3.79M [00:04<00:01, 405kB/s]\u001b[A\n",
      "Downloading data:  88%|████████▊ | 3.34M/3.79M [00:04<00:01, 340kB/s]\u001b[A\n",
      "Downloading data:  90%|████████▉ | 3.39M/3.79M [00:05<00:01, 329kB/s]\u001b[A\n",
      "Downloading data:  92%|█████████▏| 3.48M/3.79M [00:05<00:00, 313kB/s]\u001b[A\n",
      "Downloading data:  93%|█████████▎| 3.53M/3.79M [00:05<00:00, 312kB/s]\u001b[A\n",
      "Downloading data:  94%|█████████▍| 3.57M/3.79M [00:05<00:00, 255kB/s]\u001b[A\n",
      "Downloading data:  95%|█████████▌| 3.60M/3.79M [00:05<00:00, 226kB/s]\u001b[A\n",
      "Downloading data:  96%|█████████▌| 3.63M/3.79M [00:06<00:00, 187kB/s]\u001b[A\n",
      "Downloading data:  97%|█████████▋| 3.66M/3.79M [00:06<00:00, 167kB/s]\u001b[A\n",
      "Downloading data:  97%|█████████▋| 3.67M/3.79M [00:06<00:00, 140kB/s]\u001b[A\n",
      "Downloading data:  97%|█████████▋| 3.69M/3.79M [00:06<00:00, 111kB/s]\u001b[A\n",
      "Downloading data:  98%|█████████▊| 3.73M/3.79M [00:07<00:00, 121kB/s]\u001b[A\n",
      "Downloading data:  99%|█████████▉| 3.74M/3.79M [00:07<00:00, 81.6kB/s]\u001b[A\n",
      "Downloading data: 100%|██████████| 3.79M/3.79M [00:07<00:00, 476kB/s] \u001b[A\n",
      "Downloading data files:  33%|███▎      | 1/3 [00:09<00:19,  9.90s/it]\n",
      "Downloading data:   0%|          | 0.00/472k [00:00<?, ?B/s]\u001b[A\n",
      "Downloading data:   0%|          | 2.05k/472k [00:00<00:44, 10.5kB/s]\u001b[A\n",
      "Downloading data:  11%|█         | 52.2k/472k [00:00<00:02, 153kB/s] \u001b[A\n",
      "Downloading data:  18%|█▊        | 87.0k/472k [00:00<00:02, 163kB/s]\u001b[A\n",
      "Downloading data:  41%|████      | 191k/472k [00:00<00:00, 304kB/s] \u001b[A\n",
      "Downloading data: 100%|██████████| 472k/472k [00:01<00:00, 468kB/s]\u001b[A\n",
      "Downloading data files:  67%|██████▋   | 2/3 [00:12<00:05,  5.70s/it]\n",
      "Downloading data:   0%|          | 0.00/423k [00:00<?, ?B/s]\u001b[A\n",
      "Downloading data:   4%|▍         | 18.4k/423k [00:00<00:04, 92.7kB/s]\u001b[A\n",
      "Downloading data:  12%|█▏        | 52.2k/423k [00:00<00:02, 136kB/s] \u001b[A\n",
      "Downloading data:  29%|██▉       | 122k/423k [00:00<00:01, 231kB/s] \u001b[A\n",
      "Downloading data: 100%|██████████| 423k/423k [00:00<00:00, 515kB/s]\u001b[A\n",
      "Downloading data files: 100%|██████████| 3/3 [00:15<00:00,  5.14s/it]\n",
      "Extracting data files: 100%|██████████| 3/3 [00:00<00:00, 955.86it/s]\n",
      "                                                                                        "
     ]
    },
    {
     "name": "stdout",
     "output_type": "stream",
     "text": [
      "Dataset commonsense_qa downloaded and prepared to /root/.cache/huggingface/datasets/commonsense_qa/default/1.0.0/28d68f56649a7f0c23bc68eae850af914aa03f95f810011ae8cf58cc5ff5051b. Subsequent calls will reuse this data.\n"
     ]
    },
    {
     "name": "stderr",
     "output_type": "stream",
     "text": [
      "\r"
     ]
    }
   ],
   "source": [
    "from datasets import load_dataset\n",
    "dataset = load_dataset(\"commonsense_qa\", split=\"validation\")"
   ]
  },
  {
   "cell_type": "code",
   "execution_count": 5,
   "id": "f5b42dcf-9b86-4cb2-a031-58992b509b8b",
   "metadata": {},
   "outputs": [],
   "source": [
    "from promptsource.templates import DatasetTemplates\n",
    "cqa_prompts = DatasetTemplates('commonsense_qa')"
   ]
  },
  {
   "cell_type": "code",
   "execution_count": 20,
   "id": "f31e6ce6-2ad3-479e-ad79-7c9f1cf05740",
   "metadata": {},
   "outputs": [],
   "source": [
    "# cqa_prompts.templates\n",
    "prompt = cqa_prompts[\"question_answering\"]"
   ]
  },
  {
   "cell_type": "code",
   "execution_count": 21,
   "id": "1e5d4996-cd92-4152-9b15-cd8b11996ab1",
   "metadata": {},
   "outputs": [],
   "source": [
    "example = dataset[0]\n",
    "results = prompt.apply(example)"
   ]
  },
  {
   "cell_type": "code",
   "execution_count": 22,
   "id": "37afee62-1c5e-4ced-9e3b-0406c671c08f",
   "metadata": {},
   "outputs": [
    {
     "name": "stdout",
     "output_type": "stream",
     "text": [
      "{'id': '1afa02df02c908a558b4036e80242fac', 'question': 'A revolving door is convenient for two direction travel, but it also serves as a security measure at a what?', 'question_concept': 'revolving door', 'choices': {'label': ['A', 'B', 'C', 'D', 'E'], 'text': ['bank', 'library', 'department store', 'mall', 'new york']}, 'answerKey': 'A'}\n",
      "****************************************\n",
      "A revolving door is convenient for two direction travel, but it also serves as a security measure at a what?\n",
      "\n",
      "- bank\n",
      "- library\n",
      "- department store\n",
      "- mall\n",
      "- new york\n",
      "****************************************\n",
      "bank\n"
     ]
    }
   ],
   "source": [
    "print(example)\n",
    "print('*' * 40)\n",
    "print(results[0])\n",
    "print('*' * 40)\n",
    "print(results[1])"
   ]
  },
  {
   "cell_type": "code",
   "execution_count": null,
   "id": "8bc56f57-b841-4782-a550-6440b0f6f78c",
   "metadata": {},
   "outputs": [],
   "source": []
  }
 ],
 "metadata": {
  "kernelspec": {
   "display_name": "Python 3 (ipykernel)",
   "language": "python",
   "name": "python3"
  },
  "language_info": {
   "codemirror_mode": {
    "name": "ipython",
    "version": 3
   },
   "file_extension": ".py",
   "mimetype": "text/x-python",
   "name": "python",
   "nbconvert_exporter": "python",
   "pygments_lexer": "ipython3",
   "version": "3.8.10"
  }
 },
 "nbformat": 4,
 "nbformat_minor": 5
}
