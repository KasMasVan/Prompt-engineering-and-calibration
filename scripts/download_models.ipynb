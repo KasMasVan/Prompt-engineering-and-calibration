{
 "cells": [
  {
   "cell_type": "code",
   "execution_count": 1,
   "id": "53d24b8e-a2be-4690-adce-aa0f595f270d",
   "metadata": {},
   "outputs": [
    {
     "name": "stderr",
     "output_type": "stream",
     "text": [
      "/usr/local/lib/python3.8/dist-packages/tqdm/auto.py:22: TqdmWarning: IProgress not found. Please update jupyter and ipywidgets. See https://ipywidgets.readthedocs.io/en/stable/user_install.html\n",
      "  from .autonotebook import tqdm as notebook_tqdm\n"
     ]
    }
   ],
   "source": [
    "import os\n",
    "from transformers import (\n",
    "    GPT2LMHeadModel,\n",
    "    GPT2Tokenizer,\n",
    "    AutoTokenizer, \n",
    "    AutoModelForSeq2SeqLM,\n",
    ")"
   ]
  },
  {
   "cell_type": "code",
   "execution_count": 3,
   "id": "56d5edeb-a41f-4399-a8c3-ad15a8c5adbb",
   "metadata": {
    "tags": []
   },
   "outputs": [
    {
     "name": "stderr",
     "output_type": "stream",
     "text": [
      "Downloading: 100%|██████████| 2.54k/2.54k [00:00<00:00, 918kB/s]\n",
      "Downloading: 100%|██████████| 792k/792k [00:00<00:00, 956kB/s] \n",
      "Downloading: 100%|██████████| 2.42M/2.42M [00:01<00:00, 1.65MB/s]\n",
      "Downloading: 100%|██████████| 2.20k/2.20k [00:00<00:00, 1.49MB/s]\n",
      "Downloading: 100%|██████████| 1.40k/1.40k [00:00<00:00, 689kB/s]\n",
      "Downloading: 100%|██████████| 308M/308M [00:15<00:00, 20.4MB/s] \n",
      "Downloading: 100%|██████████| 2.54k/2.54k [00:00<00:00, 264kB/s]\n",
      "Downloading: 100%|██████████| 792k/792k [00:00<00:00, 843kB/s] \n",
      "Downloading: 100%|██████████| 2.42M/2.42M [00:07<00:00, 313kB/s] \n",
      "Downloading: 100%|██████████| 2.20k/2.20k [00:00<00:00, 1.06MB/s]\n",
      "Downloading: 100%|██████████| 1.40k/1.40k [00:00<00:00, 1.05MB/s]\n",
      "Downloading: 100%|██████████| 990M/990M [00:49<00:00, 20.2MB/s]  \n",
      "Downloading: 100%|██████████| 2.54k/2.54k [00:00<00:00, 1.52MB/s]\n",
      "Downloading: 100%|██████████| 792k/792k [00:00<00:00, 870kB/s] \n",
      "Downloading: 100%|██████████| 2.42M/2.42M [00:01<00:00, 1.68MB/s]\n",
      "Downloading: 100%|██████████| 2.20k/2.20k [00:00<00:00, 1.05MB/s]\n",
      "Downloading: 100%|██████████| 662/662 [00:00<00:00, 296kB/s]\n",
      "Downloading: 100%|██████████| 3.13G/3.13G [03:30<00:00, 14.9MB/s] \n",
      "Downloading: 100%|██████████| 2.54k/2.54k [00:00<00:00, 1.15MB/s]\n",
      "Downloading: 100%|██████████| 792k/792k [00:00<00:00, 1.01MB/s]\n",
      "Downloading: 100%|██████████| 2.42M/2.42M [00:03<00:00, 665kB/s] \n",
      "Downloading: 100%|██████████| 2.20k/2.20k [00:00<00:00, 1.39MB/s]\n",
      "Downloading: 100%|██████████| 1.44k/1.44k [00:00<00:00, 496kB/s]\n",
      "Downloading: 100%|██████████| 50.8k/50.8k [00:00<00:00, 96.3kB/s]\n",
      "Downloading: 100%|██████████| 9.45G/9.45G [10:19<00:00, 15.3MB/s]  \n",
      "Downloading: 100%|██████████| 1.95G/1.95G [01:27<00:00, 22.3MB/s] \n"
     ]
    }
   ],
   "source": [
    "# gpt2_ckpts = ['gpt2', 'gpt2-medium', 'gpt2-large', 'gpt2-xl']\n",
    "gpt2_ckpts = []\n",
    "# t5_ckpts = ['t5-small', 't5-base', 't5-large']\n",
    "t5_ckpts = []\n",
    "flant5_ckpts = ['google/flan-t5-small', 'google/flan-t5-base', 'google/flan-t5-large', 'google/flan-t5-xl']\n",
    "\n",
    "for ckpt in gpt2_ckpts:\n",
    "    tokenizer = GPT2Tokenizer.from_pretrained(ckpt)\n",
    "    model = GPT2LMHeadModel.from_pretrained(ckpt)\n",
    "    \n",
    "    save_dir = f\"../models/{ckpt}\"\n",
    "    os.makedirs(os.path.dirname(save_dir), exist_ok=True)\n",
    "    model.save_pretrained(save_dir)\n",
    "    tokenizer.save_pretrained(save_dir)\n",
    "\n",
    "for ckpt in t5_ckpts:\n",
    "    tokenizer = AutoTokenizer.from_pretrained(ckpt)\n",
    "    model = AutoModelForSeq2SeqLM.from_pretrained(ckpt)\n",
    "    \n",
    "    save_dir = f\"../models/{ckpt}\"\n",
    "    os.makedirs(os.path.dirname(save_dir), exist_ok=True)\n",
    "    model.save_pretrained(save_dir)\n",
    "    tokenizer.save_pretrained(save_dir)\n",
    "\n",
    "for ckpt in flant5_ckpts:\n",
    "    tokenizer = AutoTokenizer.from_pretrained(ckpt)\n",
    "    model = AutoModelForSeq2SeqLM.from_pretrained(ckpt)\n",
    "    \n",
    "    save_dir = f\"../models/{ckpt}\"\n",
    "    os.makedirs(os.path.dirname(save_dir), exist_ok=True)\n",
    "    model.save_pretrained(save_dir)\n",
    "    tokenizer.save_pretrained(save_dir)"
   ]
  },
  {
   "cell_type": "code",
   "execution_count": null,
   "id": "6eb26b92-0fc9-42bf-87ed-17bd19a140bf",
   "metadata": {},
   "outputs": [],
   "source": []
  }
 ],
 "metadata": {
  "kernelspec": {
   "display_name": "Python 3 (ipykernel)",
   "language": "python",
   "name": "python3"
  },
  "language_info": {
   "codemirror_mode": {
    "name": "ipython",
    "version": 3
   },
   "file_extension": ".py",
   "mimetype": "text/x-python",
   "name": "python",
   "nbconvert_exporter": "python",
   "pygments_lexer": "ipython3",
   "version": "3.8.10"
  }
 },
 "nbformat": 4,
 "nbformat_minor": 5
}
