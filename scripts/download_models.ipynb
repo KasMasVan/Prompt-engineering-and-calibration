{
 "cells": [
  {
   "cell_type": "code",
   "execution_count": 1,
   "id": "53d24b8e-a2be-4690-adce-aa0f595f270d",
   "metadata": {},
   "outputs": [
    {
     "name": "stderr",
     "output_type": "stream",
     "text": [
      "/usr/local/lib/python3.8/dist-packages/tqdm/auto.py:22: TqdmWarning: IProgress not found. Please update jupyter and ipywidgets. See https://ipywidgets.readthedocs.io/en/stable/user_install.html\n",
      "  from .autonotebook import tqdm as notebook_tqdm\n"
     ]
    }
   ],
   "source": [
    "import os\n",
    "from transformers import (\n",
    "    GPT2LMHeadModel,\n",
    "    GPT2Tokenizer,\n",
    "    AutoTokenizer, \n",
    "    AutoModelForSeq2SeqLM,\n",
    ")"
   ]
  },
  {
   "cell_type": "code",
   "execution_count": 3,
   "id": "56d5edeb-a41f-4399-a8c3-ad15a8c5adbb",
   "metadata": {
    "tags": []
   },
   "outputs": [
    {
     "name": "stderr",
     "output_type": "stream",
     "text": [
      "Downloading: 100%|██████████| 1.21k/1.21k [00:00<00:00, 695kB/s]\n",
      "Downloading: 100%|██████████| 792k/792k [00:01<00:00, 500kB/s]  \n",
      "Downloading: 100%|██████████| 1.39M/1.39M [00:01<00:00, 754kB/s] \n",
      "/usr/local/lib/python3.8/dist-packages/transformers/models/t5/tokenization_t5_fast.py:156: FutureWarning: This tokenizer was incorrectly instantiated with a model max length of 512 which will be corrected in Transformers v5.\n",
      "For now, this behavior is kept to avoid breaking backwards compatibility when padding/encoding with `truncation is True`.\n",
      "- Be aware that you SHOULD NOT rely on t5-small automatically truncating your input to 512 when padding/encoding.\n",
      "- If you want to encode/pad to sequences longer than 512 you can either instantiate this tokenizer with `model_max_length` or pass `max_length` when encoding/padding.\n",
      "- To avoid this warning, please instantiate this tokenizer with `model_max_length` set to your preferred value.\n",
      "  warnings.warn(\n",
      "Downloading: 100%|██████████| 242M/242M [00:22<00:00, 10.7MB/s] \n",
      "Downloading: 100%|██████████| 1.21k/1.21k [00:00<00:00, 588kB/s]\n",
      "Downloading: 100%|██████████| 792k/792k [00:01<00:00, 766kB/s]  \n",
      "Downloading: 100%|██████████| 1.39M/1.39M [00:01<00:00, 1.07MB/s]\n",
      "/usr/local/lib/python3.8/dist-packages/transformers/models/t5/tokenization_t5_fast.py:156: FutureWarning: This tokenizer was incorrectly instantiated with a model max length of 512 which will be corrected in Transformers v5.\n",
      "For now, this behavior is kept to avoid breaking backwards compatibility when padding/encoding with `truncation is True`.\n",
      "- Be aware that you SHOULD NOT rely on t5-base automatically truncating your input to 512 when padding/encoding.\n",
      "- If you want to encode/pad to sequences longer than 512 you can either instantiate this tokenizer with `model_max_length` or pass `max_length` when encoding/padding.\n",
      "- To avoid this warning, please instantiate this tokenizer with `model_max_length` set to your preferred value.\n",
      "  warnings.warn(\n",
      "Downloading: 100%|██████████| 892M/892M [00:45<00:00, 19.7MB/s]  \n",
      "Downloading: 100%|██████████| 1.21k/1.21k [00:00<00:00, 644kB/s]\n",
      "Downloading: 100%|██████████| 792k/792k [00:01<00:00, 643kB/s]  \n",
      "Downloading: 100%|██████████| 1.39M/1.39M [00:01<00:00, 1.00MB/s]\n",
      "/usr/local/lib/python3.8/dist-packages/transformers/models/t5/tokenization_t5_fast.py:156: FutureWarning: This tokenizer was incorrectly instantiated with a model max length of 512 which will be corrected in Transformers v5.\n",
      "For now, this behavior is kept to avoid breaking backwards compatibility when padding/encoding with `truncation is True`.\n",
      "- Be aware that you SHOULD NOT rely on t5-large automatically truncating your input to 512 when padding/encoding.\n",
      "- If you want to encode/pad to sequences longer than 512 you can either instantiate this tokenizer with `model_max_length` or pass `max_length` when encoding/padding.\n",
      "- To avoid this warning, please instantiate this tokenizer with `model_max_length` set to your preferred value.\n",
      "  warnings.warn(\n",
      "Downloading: 100%|██████████| 2.95G/2.95G [02:17<00:00, 21.5MB/s] \n"
     ]
    }
   ],
   "source": [
    "# gpt2_ckpts = ['gpt2', 'gpt2-medium', 'gpt2-large', 'gpt2-xl']\n",
    "gpt2_ckpts=[]\n",
    "t5_ckpts = ['t5-small', 't5-base', 't5-large']\n",
    "# flant5_ckpts = ['google/flan-t5-small', 'google/flan-t5-base', 'google/flan-t5-large', 'google/flan-t5-xl']\n",
    "flant5_ckpts=[]\n",
    "\n",
    "for ckpt in gpt2_ckpts:\n",
    "    tokenizer = GPT2Tokenizer.from_pretrained(ckpt)\n",
    "    model = GPT2LMHeadModel.from_pretrained(ckpt)\n",
    "    \n",
    "    save_dir = f\"../models/{ckpt}\"\n",
    "    os.makedirs(os.path.dirname(save_dir), exist_ok=True)\n",
    "    model.save_pretrained(save_dir)\n",
    "    tokenizer.save_pretrained(save_dir)\n",
    "\n",
    "for ckpt in t5_ckpts:\n",
    "    tokenizer = AutoTokenizer.from_pretrained(ckpt)\n",
    "    model = AutoModelForSeq2SeqLM.from_pretrained(ckpt)\n",
    "    \n",
    "    save_dir = f\"../models/{ckpt}\"\n",
    "    os.makedirs(os.path.dirname(save_dir), exist_ok=True)\n",
    "    model.save_pretrained(save_dir)\n",
    "    tokenizer.save_pretrained(save_dir)\n",
    "\n",
    "for ckpt in flant5_ckpts:\n",
    "    tokenizer = AutoTokenizer.from_pretrained(ckpt)\n",
    "    model = AutoModelForSeq2SeqLM.from_pretrained(ckpt)\n",
    "    \n",
    "    save_dir = f\"../models/{ckpt}\"\n",
    "    os.makedirs(os.path.dirname(save_dir), exist_ok=True)\n",
    "    model.save_pretrained(save_dir)\n",
    "    tokenizer.save_pretrained(save_dir)"
   ]
  },
  {
   "cell_type": "code",
   "execution_count": null,
   "id": "6eb26b92-0fc9-42bf-87ed-17bd19a140bf",
   "metadata": {},
   "outputs": [],
   "source": []
  }
 ],
 "metadata": {
  "kernelspec": {
   "display_name": "Python 3 (ipykernel)",
   "language": "python",
   "name": "python3"
  },
  "language_info": {
   "codemirror_mode": {
    "name": "ipython",
    "version": 3
   },
   "file_extension": ".py",
   "mimetype": "text/x-python",
   "name": "python",
   "nbconvert_exporter": "python",
   "pygments_lexer": "ipython3",
   "version": "3.8.10"
  }
 },
 "nbformat": 4,
 "nbformat_minor": 5
}
